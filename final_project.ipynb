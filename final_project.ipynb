{
 "cells": [
  {
   "cell_type": "markdown",
   "id": "e5a8c21c-9397-40b3-8a85-c2e2ca9ddec2",
   "metadata": {},
   "source": [
    "# Final"
   ]
  },
  {
   "cell_type": "code",
   "execution_count": 4,
   "id": "dc07bbbf-c60a-422c-b05a-779a31909926",
   "metadata": {},
   "outputs": [
    {
     "name": "stdout",
     "output_type": "stream",
     "text": [
      "Collecting nltk\n",
      "  Downloading nltk-3.6.2-py3-none-any.whl (1.5 MB)\n",
      "\u001b[K     |████████████████████████████████| 1.5 MB 1.3 MB/s eta 0:00:01\n",
      "\u001b[?25hCollecting click\n",
      "  Downloading click-8.0.1-py3-none-any.whl (97 kB)\n",
      "\u001b[K     |████████████████████████████████| 97 kB 3.6 MB/s eta 0:00:01\n",
      "\u001b[?25hRequirement already satisfied: joblib in /usr/local/lib/python3.9/dist-packages (from nltk) (1.0.1)\n",
      "Requirement already satisfied: tqdm in /usr/local/lib/python3.9/dist-packages (from nltk) (4.61.0)\n",
      "Collecting regex\n",
      "  Downloading regex-2021.4.4-cp39-cp39-manylinux2014_x86_64.whl (730 kB)\n",
      "\u001b[K     |████████████████████████████████| 730 kB 4.0 MB/s eta 0:00:01\n",
      "\u001b[?25hInstalling collected packages: regex, click, nltk\n",
      "Successfully installed click-8.0.1 nltk-3.6.2 regex-2021.4.4\n",
      "\u001b[33mWARNING: Running pip as root will break packages and permissions. You should install packages reliably by using venv: https://pip.pypa.io/warnings/venv\u001b[0m\n"
     ]
    }
   ],
   "source": [
    "!pip install nltk"
   ]
  },
  {
   "cell_type": "code",
   "execution_count": 5,
   "id": "8651a9ca-d854-4d65-be40-e3c9c451bb80",
   "metadata": {},
   "outputs": [
    {
     "ename": "AttributeError",
     "evalue": "module 'keras.utils.generic_utils' has no attribute 'populate_dict_with_module_objects'",
     "output_type": "error",
     "traceback": [
      "\u001b[0;31m---------------------------------------------------------------------------\u001b[0m",
      "\u001b[0;31mAttributeError\u001b[0m                            Traceback (most recent call last)",
      "\u001b[0;32m<ipython-input-5-ac555cb5d021>\u001b[0m in \u001b[0;36m<module>\u001b[0;34m\u001b[0m\n\u001b[1;32m     21\u001b[0m \u001b[0;31m# tensorflow and keras\u001b[0m\u001b[0;34m\u001b[0m\u001b[0;34m\u001b[0m\u001b[0;34m\u001b[0m\u001b[0m\n\u001b[1;32m     22\u001b[0m \u001b[0;32mimport\u001b[0m \u001b[0mtensorflow\u001b[0m \u001b[0;32mas\u001b[0m \u001b[0mtf\u001b[0m\u001b[0;34m\u001b[0m\u001b[0;34m\u001b[0m\u001b[0m\n\u001b[0;32m---> 23\u001b[0;31m \u001b[0;32mfrom\u001b[0m \u001b[0mkeras\u001b[0m\u001b[0;34m.\u001b[0m\u001b[0mpreprocessing\u001b[0m\u001b[0;34m.\u001b[0m\u001b[0mtext\u001b[0m \u001b[0;32mimport\u001b[0m \u001b[0mTokenizer\u001b[0m\u001b[0;34m\u001b[0m\u001b[0;34m\u001b[0m\u001b[0m\n\u001b[0m\u001b[1;32m     24\u001b[0m \u001b[0;32mfrom\u001b[0m \u001b[0mkeras\u001b[0m\u001b[0;34m.\u001b[0m\u001b[0mpreprocessing\u001b[0m\u001b[0;34m.\u001b[0m\u001b[0msequence\u001b[0m \u001b[0;32mimport\u001b[0m \u001b[0mpad_sequences\u001b[0m\u001b[0;34m\u001b[0m\u001b[0;34m\u001b[0m\u001b[0m\n\u001b[1;32m     25\u001b[0m \u001b[0;32mfrom\u001b[0m \u001b[0mkeras\u001b[0m\u001b[0;34m.\u001b[0m\u001b[0mpreprocessing\u001b[0m \u001b[0;32mimport\u001b[0m \u001b[0msequence\u001b[0m\u001b[0;34m\u001b[0m\u001b[0;34m\u001b[0m\u001b[0m\n",
      "\u001b[0;32m/usr/local/lib/python3.9/dist-packages/keras/__init__.py\u001b[0m in \u001b[0;36m<module>\u001b[0;34m\u001b[0m\n\u001b[1;32m     18\u001b[0m \u001b[0;32mfrom\u001b[0m \u001b[0;34m.\u001b[0m \u001b[0;32mimport\u001b[0m \u001b[0mcallbacks\u001b[0m\u001b[0;34m\u001b[0m\u001b[0;34m\u001b[0m\u001b[0m\n\u001b[1;32m     19\u001b[0m \u001b[0;32mfrom\u001b[0m \u001b[0;34m.\u001b[0m \u001b[0;32mimport\u001b[0m \u001b[0mconstraints\u001b[0m\u001b[0;34m\u001b[0m\u001b[0;34m\u001b[0m\u001b[0m\n\u001b[0;32m---> 20\u001b[0;31m \u001b[0;32mfrom\u001b[0m \u001b[0;34m.\u001b[0m \u001b[0;32mimport\u001b[0m \u001b[0minitializers\u001b[0m\u001b[0;34m\u001b[0m\u001b[0;34m\u001b[0m\u001b[0m\n\u001b[0m\u001b[1;32m     21\u001b[0m \u001b[0;32mfrom\u001b[0m \u001b[0;34m.\u001b[0m \u001b[0;32mimport\u001b[0m \u001b[0mmetrics\u001b[0m\u001b[0;34m\u001b[0m\u001b[0;34m\u001b[0m\u001b[0m\n\u001b[1;32m     22\u001b[0m \u001b[0;32mfrom\u001b[0m \u001b[0;34m.\u001b[0m \u001b[0;32mimport\u001b[0m \u001b[0mmodels\u001b[0m\u001b[0;34m\u001b[0m\u001b[0;34m\u001b[0m\u001b[0m\n",
      "\u001b[0;32m/usr/local/lib/python3.9/dist-packages/keras/initializers/__init__.py\u001b[0m in \u001b[0;36m<module>\u001b[0;34m\u001b[0m\n\u001b[1;32m    122\u001b[0m \u001b[0;31m# from ALL_OBJECTS. We make no guarantees as to whether these objects will\u001b[0m\u001b[0;34m\u001b[0m\u001b[0;34m\u001b[0m\u001b[0;34m\u001b[0m\u001b[0m\n\u001b[1;32m    123\u001b[0m \u001b[0;31m# using their correct version.\u001b[0m\u001b[0;34m\u001b[0m\u001b[0;34m\u001b[0m\u001b[0;34m\u001b[0m\u001b[0m\n\u001b[0;32m--> 124\u001b[0;31m \u001b[0mpopulate_deserializable_objects\u001b[0m\u001b[0;34m(\u001b[0m\u001b[0;34m)\u001b[0m\u001b[0;34m\u001b[0m\u001b[0;34m\u001b[0m\u001b[0m\n\u001b[0m\u001b[1;32m    125\u001b[0m \u001b[0mglobals\u001b[0m\u001b[0;34m(\u001b[0m\u001b[0;34m)\u001b[0m\u001b[0;34m.\u001b[0m\u001b[0mupdate\u001b[0m\u001b[0;34m(\u001b[0m\u001b[0mLOCAL\u001b[0m\u001b[0;34m.\u001b[0m\u001b[0mALL_OBJECTS\u001b[0m\u001b[0;34m)\u001b[0m\u001b[0;34m\u001b[0m\u001b[0;34m\u001b[0m\u001b[0m\n\u001b[1;32m    126\u001b[0m \u001b[0;34m\u001b[0m\u001b[0m\n",
      "\u001b[0;32m/usr/local/lib/python3.9/dist-packages/keras/initializers/__init__.py\u001b[0m in \u001b[0;36mpopulate_deserializable_objects\u001b[0;34m()\u001b[0m\n\u001b[1;32m     80\u001b[0m     \u001b[0mv2_objs\u001b[0m \u001b[0;34m=\u001b[0m \u001b[0;34m{\u001b[0m\u001b[0;34m}\u001b[0m\u001b[0;34m\u001b[0m\u001b[0;34m\u001b[0m\u001b[0m\n\u001b[1;32m     81\u001b[0m     \u001b[0mbase_cls\u001b[0m \u001b[0;34m=\u001b[0m \u001b[0minitializers_v2\u001b[0m\u001b[0;34m.\u001b[0m\u001b[0mInitializer\u001b[0m\u001b[0;34m\u001b[0m\u001b[0;34m\u001b[0m\u001b[0m\n\u001b[0;32m---> 82\u001b[0;31m     generic_utils.populate_dict_with_module_objects(\n\u001b[0m\u001b[1;32m     83\u001b[0m         \u001b[0mv2_objs\u001b[0m\u001b[0;34m,\u001b[0m\u001b[0;34m\u001b[0m\u001b[0;34m\u001b[0m\u001b[0m\n\u001b[1;32m     84\u001b[0m         \u001b[0;34m[\u001b[0m\u001b[0minitializers_v2\u001b[0m\u001b[0;34m]\u001b[0m\u001b[0;34m,\u001b[0m\u001b[0;34m\u001b[0m\u001b[0;34m\u001b[0m\u001b[0m\n",
      "\u001b[0;31mAttributeError\u001b[0m: module 'keras.utils.generic_utils' has no attribute 'populate_dict_with_module_objects'"
     ]
    }
   ],
   "source": [
    "# data tools\n",
    "import os\n",
    "import re\n",
    "import json \n",
    "import warnings \n",
    "import numpy as np\n",
    "import pandas as pd\n",
    "import matplotlib.pyplot as plt\n",
    "import seaborn as sns\n",
    "from wordcloud import WordCloud\n",
    "warnings.filterwarnings('ignore')\n",
    "from subprocess import check_output\n",
    "\n",
    "# nltk and sklearn\n",
    "import nltk\n",
    "from sklearn import metrics\n",
    "from sklearn.metrics import confusion_matrix\n",
    "from sklearn.model_selection import train_test_split\n",
    "from sklearn.feature_extraction.text import CountVectorizer\n",
    "\n",
    "# tensorflow and keras\n",
    "import tensorflow as tf\n",
    "from keras.preprocessing.text import Tokenizer\n",
    "from keras.preprocessing.sequence import pad_sequences\n",
    "from keras.preprocessing import sequence\n",
    "from tensorflow.keras.models import Sequential\n",
    "from tensorflow.keras.models import model_from_json\n",
    "from keras.layers import Dense, Dropout, Activation\n",
    "from keras.layers import Embedding, LSTM, Conv1D, MaxPooling1D\n",
    "from keras.utils.np_utils import to_categorical\n",
    "from keras.callbacks import EarlyStopping\n",
    "from tensorflow.keras.callbacks import ModelCheckpoint"
   ]
  },
  {
   "cell_type": "code",
   "execution_count": null,
   "id": "c078381c-788e-45b9-824a-7852466b736c",
   "metadata": {},
   "outputs": [],
   "source": [
    "print(\"Num GPUs Available: \", len(tf.config.list_physical_devices('GPU')))"
   ]
  },
  {
   "cell_type": "markdown",
   "id": "23fa7a88-d764-4c2e-bcc6-28c2694f0fe1",
   "metadata": {},
   "source": [
    "# Get the dataset (Amazon Video Game Reviews)"
   ]
  },
  {
   "cell_type": "code",
   "execution_count": null,
   "id": "a167a991-40d6-401a-b093-34ffb768e0b2",
   "metadata": {},
   "outputs": [],
   "source": [
    "#!curl https://s3.amazonaws.com/amazon-reviews-pds/tsv/amazon_reviews_us_Video_Games_v1_00.tsv.gz -o games.tsv.gz\n",
    "#!gzip -d games.tsv.gz"
   ]
  },
  {
   "cell_type": "markdown",
   "id": "a879669d-2a60-4cbf-8b7a-d3a8c7cde2e1",
   "metadata": {},
   "source": [
    "# Load into Pandas DataFrame "
   ]
  },
  {
   "cell_type": "markdown",
   "id": "f8de0f42-1b2f-467d-9b66-b69dda56be51",
   "metadata": {},
   "source": [
    "There are a small number of lines in this file that don't parse properly"
   ]
  },
  {
   "cell_type": "code",
   "execution_count": null,
   "id": "a2388b23-bc0b-4d64-8c65-23aa06807293",
   "metadata": {},
   "outputs": [],
   "source": [
    "games = pd.read_csv('games.tsv', delimiter = '\\t', error_bad_lines=False)"
   ]
  },
  {
   "cell_type": "markdown",
   "id": "fa38a418-4aee-4d54-98bf-700cf9812547",
   "metadata": {},
   "source": [
    "# Examine Data"
   ]
  },
  {
   "cell_type": "code",
   "execution_count": null,
   "id": "dffe4b2d-88dc-476b-b48b-69c254d8debe",
   "metadata": {},
   "outputs": [],
   "source": [
    "games.head()"
   ]
  },
  {
   "cell_type": "code",
   "execution_count": null,
   "id": "c8e27614-d2b1-4db3-b547-61076e577f00",
   "metadata": {},
   "outputs": [],
   "source": [
    "games.dtypes"
   ]
  },
  {
   "cell_type": "markdown",
   "id": "8d6dab5b-8297-4b70-8786-3c7ab5643a4c",
   "metadata": {},
   "source": [
    "The data types all seem to be correct"
   ]
  },
  {
   "cell_type": "code",
   "execution_count": null,
   "id": "aabd8762-e632-44a3-b5f3-6b3928c5109f",
   "metadata": {},
   "outputs": [],
   "source": [
    "games.describe()"
   ]
  },
  {
   "cell_type": "code",
   "execution_count": null,
   "id": "81082b65-886c-4116-903f-c1c7065945e1",
   "metadata": {},
   "outputs": [],
   "source": [
    "games.star_rating.value_counts()"
   ]
  },
  {
   "cell_type": "markdown",
   "id": "542962df-330a-45ed-9318-2a970703b744",
   "metadata": {},
   "source": [
    "Star ratings tend to be fairly high on average with a mean of 4, most reviews have no helpful_votes but some reviews have a lot of helpful votes"
   ]
  },
  {
   "cell_type": "code",
   "execution_count": null,
   "id": "e214fb06-826b-4036-94b5-29bbf6ca6490",
   "metadata": {},
   "outputs": [],
   "source": [
    "games.isna().sum()"
   ]
  },
  {
   "cell_type": "markdown",
   "id": "addb7714-1be7-4cf1-a883-ac42b8d88d8e",
   "metadata": {},
   "source": [
    "There are a very small number of NA values, they make up less than .01% of the data so dropping those rows should not have a substantial impact"
   ]
  },
  {
   "cell_type": "code",
   "execution_count": null,
   "id": "b3b4ea71-cd0e-479c-bcf3-460c55b26e4a",
   "metadata": {},
   "outputs": [],
   "source": [
    "games.dropna(inplace=True)"
   ]
  },
  {
   "cell_type": "code",
   "execution_count": null,
   "id": "693d962e-4925-4107-8756-9f090ef48ea2",
   "metadata": {},
   "outputs": [],
   "source": [
    "games.isna().sum()"
   ]
  },
  {
   "cell_type": "markdown",
   "id": "9ebbcf99-da22-4338-b891-2adc2996080b",
   "metadata": {},
   "source": [
    "In order to get everything the customer wrote for the review, we are combining the 'review_headline' and 'review_body'. There are, however, a large number of reviews where the review headline is just a restatement of the star rating, this is information that is already captured elsewhere so those headlines are being ignored. "
   ]
  },
  {
   "cell_type": "code",
   "execution_count": null,
   "id": "eb2e026a-e84b-4671-b1f1-36330a5da7b6",
   "metadata": {},
   "outputs": [],
   "source": [
    "games['review_full'] = np.where(games['review_headline'].str.lower().str.contains('star'), games['review_body'], \n",
    "                                games['review_headline'] + ' '+ games['review_body'])"
   ]
  },
  {
   "cell_type": "code",
   "execution_count": null,
   "id": "90c834f4-b8e3-468d-b5e3-11f1b277d332",
   "metadata": {},
   "outputs": [],
   "source": [
    "games.head()"
   ]
  },
  {
   "cell_type": "markdown",
   "id": "9986b459-5825-4283-9bb0-773b6dbef099",
   "metadata": {},
   "source": [
    "We are interested in analyzing whether the review was positive or negative, so a new column is being created which classifies a review as positive if it is 4 stars or greater, negative if it is 2 stars or less, and neutral otherwise"
   ]
  },
  {
   "cell_type": "code",
   "execution_count": null,
   "id": "8ca51e84-d9e3-45c5-a044-ffd737433dcd",
   "metadata": {},
   "outputs": [],
   "source": [
    "games['Sentiment_target'] = np.where(games.star_rating > 3, 'Positive', np.where(games.star_rating < 3, 'Negative', 'Neutral'))"
   ]
  },
  {
   "cell_type": "code",
   "execution_count": null,
   "id": "3374a4e6-8e81-4a69-ad77-ac879e1cdccd",
   "metadata": {},
   "outputs": [],
   "source": [
    "games.Sentiment_target.value_counts()"
   ]
  },
  {
   "cell_type": "markdown",
   "id": "e52e67f6-f4c5-4927-b692-7b6412b44fb4",
   "metadata": {},
   "source": [
    "# Preprocessing and visualization"
   ]
  },
  {
   "cell_type": "markdown",
   "id": "2a3ed6e6-6671-4675-97d7-1b39821a98aa",
   "metadata": {},
   "source": [
    "Define a pre-processing function to lemmatize the text and remove stopwords (this takes some time to run)"
   ]
  },
  {
   "cell_type": "code",
   "execution_count": null,
   "id": "ca80e2fb-9170-421b-ba36-ed9599e2e20f",
   "metadata": {},
   "outputs": [],
   "source": [
    "def preprocess(text):\n",
    "    words = nltk.tokenize.word_tokenize(text)\n",
    "           \n",
    "    lem = nltk.stem.WordNetLemmatizer()\n",
    "    words = [lem.lemmatize(word) for word in words]\n",
    "    \n",
    "    stopwords = nltk.corpus.stopwords.words('english')\n",
    "    words = [word for word in words if word not in stopwords+['br','wa']+list(string.punctuation)]\n",
    "   \n",
    "    return ' '.join(words)"
   ]
  },
  {
   "cell_type": "code",
   "execution_count": null,
   "id": "6e4bc0d7-bc4b-4f79-aae2-88e9bc4ea6f2",
   "metadata": {},
   "outputs": [],
   "source": [
    "games['review_clean'] = games.review_full.apply(preprocess)\n",
    "games.sample(10)"
   ]
  },
  {
   "cell_type": "code",
   "execution_count": null,
   "id": "2b6a5641-e756-40d7-9503-69a39743aa32",
   "metadata": {},
   "outputs": [],
   "source": [
    "from wordcloud import WordCloud"
   ]
  },
  {
   "cell_type": "code",
   "execution_count": null,
   "id": "1ac1dd76-ff50-4900-a73a-0d79bb881ab2",
   "metadata": {},
   "outputs": [],
   "source": [
    "full_text = ' '.join(games.review_clean)\n",
    "wordcloud = WordCloud().generate(full_text)\n",
    "\n",
    "plt.rcParams[\"figure.figsize\"] = (20,15)\n",
    "plt.imshow(wordcloud, interpolation='bilinear')\n",
    "plt.axis(\"off\")\n",
    "plt.show()"
   ]
  },
  {
   "cell_type": "markdown",
   "id": "7c108f45-ef4b-4f8d-a9ac-fbb8d4a4db9b",
   "metadata": {},
   "source": [
    "This is a word cloud showing word frequency across all reviews. The most frequent words here definitely trend towards the positive side with 'great' showing up frequently, this could be because over 50% of all of the reviews are 5 star reviews, and the vast majority of reviews are positive."
   ]
  },
  {
   "cell_type": "code",
   "execution_count": null,
   "id": "2819164d-152f-487a-b5dd-15b9f5b61e13",
   "metadata": {},
   "outputs": [],
   "source": [
    "full_text = ' '.join(games.review_clean[games.Sentiment_target=='Positive'])\n",
    "wordcloud = WordCloud().generate(full_text)\n",
    "\n",
    "plt.rcParams[\"figure.figsize\"] = (20,15)\n",
    "plt.imshow(wordcloud, interpolation='bilinear')\n",
    "plt.axis(\"off\")\n",
    "plt.show()"
   ]
  },
  {
   "cell_type": "markdown",
   "id": "19c26062-173b-4168-a7c8-f53c1dc4cecb",
   "metadata": {},
   "source": [
    "This is a word cloud showing word frequency is positive reviews.It looks very similar tothe word cloud showing all reviews, but words expressing positive sentiment like 'good', 'great', and 'love' are more common. "
   ]
  },
  {
   "cell_type": "code",
   "execution_count": null,
   "id": "23f46ee5-4e75-4b1e-9cc6-a299078d73f5",
   "metadata": {},
   "outputs": [],
   "source": [
    "full_text = ' '.join(games.review_clean[games.Sentiment_target=='Negative'])\n",
    "wordcloud = WordCloud().generate(full_text)\n",
    "\n",
    "plt.rcParams[\"figure.figsize\"] = (20,15)\n",
    "plt.imshow(wordcloud, interpolation='bilinear')\n",
    "plt.axis(\"off\")\n",
    "plt.show()"
   ]
  },
  {
   "cell_type": "code",
   "execution_count": null,
   "id": "e97452d9-8d06-452f-a3f2-08f4bf2d1e8d",
   "metadata": {},
   "outputs": [],
   "source": [
    "# Sentiment_target\treview_clean\n",
    "games = games[['review_clean','Sentiment_target']]\n",
    "games.columns = ['text', 'sentiment']\n",
    "\n",
    "test = games[games.sentiment != 'Neutral']"
   ]
  }
 ],
 "metadata": {
  "kernelspec": {
   "display_name": "Python 3",
   "language": "python",
   "name": "python3"
  },
  "language_info": {
   "codemirror_mode": {
    "name": "ipython",
    "version": 3
   },
   "file_extension": ".py",
   "mimetype": "text/x-python",
   "name": "python",
   "nbconvert_exporter": "python",
   "pygments_lexer": "ipython3",
   "version": "3.9.4"
  }
 },
 "nbformat": 4,
 "nbformat_minor": 5
}
